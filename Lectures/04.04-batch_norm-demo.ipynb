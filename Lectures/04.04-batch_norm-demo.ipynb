{
 "cells": [
  {
   "cell_type": "markdown",
   "metadata": {},
   "source": [
    "# BatchNorm1d example\n",
    "In this example we show the `BatchNorm1d` layer in action.\n",
    "\n",
    "We create a random input tensor and apply the `BatchNorm1d` layer to it. We then show that the mean and standard deviation of the output tensor are close to zero and one respectively.\n",
    "We then create another input tensor with a different mean and standard deviation and show that the output tensor has a mean and standard deviation close to zero and one respectively.\n",
    "\n",
    "We then switch the `BatchNorm1d` layer to *evaluation* mode and show that the output tensor has a mean and standard deviation close to the mean and standard deviation of the input tensor.\n",
    "\n",
    "Finally we show that the output tensor has a mean and standard deviation close to the mean and standard deviation of the input tensor when the `BatchNorm1d` layer is in *evaluation* mode."
   ]
  },
  {
   "cell_type": "code",
   "execution_count": 1,
   "metadata": {},
   "outputs": [],
   "source": [
    "import torch\n",
    "import torch.nn as nn"
   ]
  },
  {
   "cell_type": "code",
   "execution_count": 2,
   "metadata": {},
   "outputs": [
    {
     "name": "stdout",
     "output_type": "stream",
     "text": [
      "tensor([[-1.3053, -1.4607, -1.7705, -0.9231, -1.5066],\n",
      "        [-0.0626,  0.6098, -0.9591,  0.4728, -0.6671],\n",
      "        [-2.3981,  0.1995, -1.9241, -0.7997,  0.5044],\n",
      "        [-1.9536, -2.8249,  0.0189, -2.0048,  0.3983],\n",
      "        [-1.5816, -2.4541, -0.4603, -1.0412,  0.9465],\n",
      "        [-0.4174,  0.6161, -1.1053, -0.0532, -1.5250],\n",
      "        [-1.8714, -1.9446,  0.9274,  0.5816,  0.2945],\n",
      "        [ 0.4576, -0.9657, -2.1261, -1.4612, -1.7325],\n",
      "        [-0.6391, -2.0033,  0.9688, -2.8802, -2.3617],\n",
      "        [-2.1025, -2.7825, -2.2888, -0.2244, -1.6572]])\n"
     ]
    }
   ],
   "source": [
    "# BatchNorm 1d demo\n",
    "# 1d input random uniform\n",
    "x1 = torch.rand(10, 5)*4 - 3\n",
    "print(x1)"
   ]
  },
  {
   "cell_type": "code",
   "execution_count": 3,
   "metadata": {},
   "outputs": [
    {
     "data": {
      "text/plain": "(tensor(-0.9849), tensor(1.1387))"
     },
     "execution_count": 3,
     "metadata": {},
     "output_type": "execute_result"
    }
   ],
   "source": [
    "x1.mean(), x1.std()"
   ]
  },
  {
   "cell_type": "code",
   "execution_count": 4,
   "metadata": {},
   "outputs": [],
   "source": [
    "# Create batch norm layer. The input has 5 features.\n",
    "# The batch norm layer will normalize each feature.\n",
    "# The batch norm layer will learn the mean and standard deviation of each feature.\n",
    "bn = nn.BatchNorm1d(5, affine=True, momentum=0.1)"
   ]
  },
  {
   "cell_type": "code",
   "execution_count": 5,
   "outputs": [
    {
     "data": {
      "text/plain": "(tensor(-1.4305e-08, grad_fn=<MeanBackward0>),\n tensor(1.0101, grad_fn=<StdBackward0>))"
     },
     "execution_count": 5,
     "metadata": {},
     "output_type": "execute_result"
    }
   ],
   "source": [
    "# Apply batch norm layer to input\n",
    "y1 = bn(x1)\n",
    "# Show mean and standard deviation of output\n",
    "y1.mean(), y1.std()"
   ],
   "metadata": {
    "collapsed": false
   }
  },
  {
   "cell_type": "code",
   "execution_count": 6,
   "metadata": {},
   "outputs": [
    {
     "data": {
      "text/plain": "(tensor(11.6037), tensor(0.9162))"
     },
     "execution_count": 6,
     "metadata": {},
     "output_type": "execute_result"
    }
   ],
   "source": [
    "# Create another input tensor with a different mean and standard deviation\n",
    "x2 = torch.rand(10, 5) * 3.0 + 10.0\n",
    "# Show mean and standard deviation of input\n",
    "x2.mean(), x2.std()"
   ]
  },
  {
   "cell_type": "code",
   "execution_count": 7,
   "metadata": {},
   "outputs": [
    {
     "data": {
      "text/plain": "(tensor(-2.2888e-07, grad_fn=<MeanBackward0>),\n tensor(1.0101, grad_fn=<StdBackward0>))"
     },
     "execution_count": 7,
     "metadata": {},
     "output_type": "execute_result"
    }
   ],
   "source": [
    "# Apply batch norm layer to input\n",
    "y2 = bn(x2)\n",
    "# and show mean and standard deviation of output\n",
    "y2.mean(), y2.std()"
   ]
  },
  {
   "cell_type": "code",
   "execution_count": 8,
   "metadata": {},
   "outputs": [
    {
     "data": {
      "text/plain": "True"
     },
     "execution_count": 8,
     "metadata": {},
     "output_type": "execute_result"
    }
   ],
   "source": [
    "# Show the mode of the batch norm layer\n",
    "bn.training"
   ]
  },
  {
   "cell_type": "code",
   "execution_count": 9,
   "outputs": [
    {
     "name": "stdout",
     "output_type": "stream",
     "text": [
      "Parameter containing:\n",
      "tensor([1., 1., 1., 1., 1.], requires_grad=True)\n",
      "Parameter containing:\n",
      "tensor([0., 0., 0., 0., 0.], requires_grad=True)\n"
     ]
    }
   ],
   "source": [
    "for p in bn.parameters():\n",
    "\tprint(p)"
   ],
   "metadata": {
    "collapsed": false
   }
  },
  {
   "cell_type": "code",
   "execution_count": 10,
   "outputs": [
    {
     "data": {
      "text/plain": "(tensor([1.0269, 1.0446, 1.1046, 1.0892, 1.0934]),\n tensor([0.9703, 1.0797, 1.0101, 1.0398, 1.0047]))"
     },
     "execution_count": 10,
     "metadata": {},
     "output_type": "execute_result"
    }
   ],
   "source": [
    "# Show running mean and running variance of batch norm layer\n",
    "bn.running_mean, bn.running_var"
   ],
   "metadata": {
    "collapsed": false
   }
  },
  {
   "cell_type": "code",
   "execution_count": 11,
   "outputs": [
    {
     "data": {
      "text/plain": "tensor(2)"
     },
     "execution_count": 11,
     "metadata": {},
     "output_type": "execute_result"
    }
   ],
   "source": [
    "bn.num_batches_tracked"
   ],
   "metadata": {
    "collapsed": false
   }
  },
  {
   "cell_type": "code",
   "execution_count": 12,
   "outputs": [
    {
     "data": {
      "text/plain": "0.1"
     },
     "execution_count": 12,
     "metadata": {},
     "output_type": "execute_result"
    }
   ],
   "source": [
    "bn.momentum"
   ],
   "metadata": {
    "collapsed": false
   }
  },
  {
   "cell_type": "code",
   "execution_count": 13,
   "outputs": [
    {
     "data": {
      "text/plain": "tensor([1.0269, 1.0446, 1.1046, 1.0892, 1.0934])"
     },
     "execution_count": 13,
     "metadata": {},
     "output_type": "execute_result"
    }
   ],
   "source": [
    "running_mean = 0.0\n",
    "running_mean = bn.momentum * x1.mean(dim=0) + (1 - bn.momentum) * running_mean\n",
    "running_mean = bn.momentum * x2.mean(dim=0) + (1 - bn.momentum) * running_mean\n",
    "running_mean"
   ],
   "metadata": {
    "collapsed": false
   }
  },
  {
   "cell_type": "markdown",
   "source": [
    "# `BatchNorm1d` layer in *evaluation* mode"
   ],
   "metadata": {
    "collapsed": false
   }
  },
  {
   "cell_type": "code",
   "execution_count": 14,
   "metadata": {},
   "outputs": [
    {
     "data": {
      "text/plain": "BatchNorm1d(5, eps=1e-05, momentum=0.1, affine=True, track_running_stats=True)"
     },
     "execution_count": 14,
     "metadata": {},
     "output_type": "execute_result"
    }
   ],
   "source": [
    "# Switch the batch norm layer to evaluation mode\n",
    "bn.eval()\n"
   ]
  },
  {
   "cell_type": "code",
   "execution_count": 15,
   "metadata": {},
   "outputs": [
    {
     "data": {
      "text/plain": "(tensor(23.8035), tensor(2.3658))"
     },
     "execution_count": 15,
     "metadata": {},
     "output_type": "execute_result"
    }
   ],
   "source": [
    "x3 = torch.rand(10, 5) * 8.0 + 20.0\n",
    "x3.mean(), x3.std()"
   ]
  },
  {
   "cell_type": "code",
   "execution_count": 16,
   "metadata": {},
   "outputs": [
    {
     "data": {
      "text/plain": "(tensor(22.5098, grad_fn=<MeanBackward0>),\n tensor(2.3973, grad_fn=<StdBackward0>))"
     },
     "execution_count": 16,
     "metadata": {},
     "output_type": "execute_result"
    }
   ],
   "source": [
    "y3 = bn(x3)\n",
    "y3.mean(), y3.std()"
   ]
  },
  {
   "cell_type": "code",
   "execution_count": 17,
   "metadata": {},
   "outputs": [
    {
     "data": {
      "text/plain": "(tensor(22.5098, grad_fn=<MeanBackward0>),\n tensor(2.3973, grad_fn=<StdBackward0>))"
     },
     "execution_count": 17,
     "metadata": {},
     "output_type": "execute_result"
    }
   ],
   "source": [
    "# Let's check the manual calculation of the output\n",
    "_y3 = (x3 - bn.running_mean)/torch.sqrt(bn.running_var + bn.eps) * bn.weight + bn.bias\n",
    "_y3.mean(), _y3.std()"
   ]
  },
  {
   "cell_type": "code",
   "execution_count": 18,
   "outputs": [
    {
     "data": {
      "text/plain": "tensor([[True, True, True, True, True],\n        [True, True, True, True, True],\n        [True, True, True, True, True],\n        [True, True, True, True, True],\n        [True, True, True, True, True],\n        [True, True, True, True, True],\n        [True, True, True, True, True],\n        [True, True, True, True, True],\n        [True, True, True, True, True],\n        [True, True, True, True, True]])"
     },
     "execution_count": 18,
     "metadata": {},
     "output_type": "execute_result"
    }
   ],
   "source": [
    "torch.isclose(y3, _y3)"
   ],
   "metadata": {
    "collapsed": false
   }
  },
  {
   "cell_type": "code",
   "execution_count": 18,
   "outputs": [],
   "source": [],
   "metadata": {
    "collapsed": false
   }
  }
 ],
 "metadata": {
  "kernelspec": {
   "display_name": "Python 3 (ipykernel)",
   "language": "python",
   "name": "python3"
  },
  "language_info": {
   "codemirror_mode": {
    "name": "ipython",
    "version": 3
   },
   "file_extension": ".py",
   "mimetype": "text/x-python",
   "name": "python",
   "nbconvert_exporter": "python",
   "pygments_lexer": "ipython3",
   "version": "3.9.16"
  }
 },
 "nbformat": 4,
 "nbformat_minor": 1
}
