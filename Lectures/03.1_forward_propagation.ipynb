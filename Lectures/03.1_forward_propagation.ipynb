{
 "cells": [
  {
   "cell_type": "markdown",
   "id": "24ab79c7",
   "metadata": {},
   "source": [
    "# Forward propagation"
   ]
  },
  {
   "cell_type": "code",
   "execution_count": 1,
   "id": "e64b5486",
   "metadata": {
    "ExecuteTime": {
     "end_time": "2023-03-11T16:46:14.025031Z",
     "start_time": "2023-03-11T16:46:13.726390Z"
    }
   },
   "outputs": [],
   "source": [
    "import torch\n",
    "\n",
    "torch.manual_seed(1); # for the reproducibility"
   ]
  },
  {
   "cell_type": "markdown",
   "id": "1807c969",
   "metadata": {},
   "source": [
    "## Linear model"
   ]
  },
  {
   "cell_type": "code",
   "execution_count": 2,
   "id": "b63b8c0e",
   "metadata": {
    "ExecuteTime": {
     "end_time": "2023-03-11T16:46:14.064462Z",
     "start_time": "2023-03-11T16:46:14.042901Z"
    }
   },
   "outputs": [
    {
     "data": {
      "text/plain": [
       "tensor([[-8.,  1., -3.,  5.,  2.]])"
      ]
     },
     "execution_count": 2,
     "metadata": {},
     "output_type": "execute_result"
    }
   ],
   "source": [
    "xT = torch.tensor([-8.0, 1.0, -3.0, 5.0, 2.0]).view(1, 5) # horizontal vector\n",
    "xT"
   ]
  },
  {
   "cell_type": "code",
   "execution_count": 3,
   "id": "22b1668d",
   "metadata": {
    "ExecuteTime": {
     "end_time": "2023-03-11T16:46:14.103230Z",
     "start_time": "2023-03-11T16:46:14.084401Z"
    }
   },
   "outputs": [
    {
     "data": {
      "text/plain": [
       "torch.Size([1, 5])"
      ]
     },
     "execution_count": 3,
     "metadata": {},
     "output_type": "execute_result"
    }
   ],
   "source": [
    "xT.shape"
   ]
  },
  {
   "cell_type": "code",
   "execution_count": 4,
   "id": "cd69d5dc",
   "metadata": {
    "ExecuteTime": {
     "end_time": "2023-03-11T16:46:14.122572Z",
     "start_time": "2023-03-11T16:46:14.120515Z"
    }
   },
   "outputs": [],
   "source": [
    "W = torch.rand(5).view(1, 5)  # random numbers from (0, 1)\n",
    "b = torch.rand(1)"
   ]
  },
  {
   "cell_type": "code",
   "execution_count": 5,
   "id": "f5a6958d",
   "metadata": {
    "ExecuteTime": {
     "end_time": "2023-03-11T16:46:14.125850Z",
     "start_time": "2023-03-11T16:46:14.123298Z"
    }
   },
   "outputs": [
    {
     "data": {
      "text/plain": [
       "tensor([[0.7576, 0.2793, 0.4031, 0.7347, 0.0293]])"
      ]
     },
     "execution_count": 5,
     "metadata": {},
     "output_type": "execute_result"
    }
   ],
   "source": [
    "W"
   ]
  },
  {
   "cell_type": "code",
   "execution_count": 6,
   "id": "f0c42dd3",
   "metadata": {
    "ExecuteTime": {
     "end_time": "2023-03-11T16:46:14.129175Z",
     "start_time": "2023-03-11T16:46:14.126646Z"
    }
   },
   "outputs": [
    {
     "data": {
      "text/plain": [
       "tensor([0.7999])"
      ]
     },
     "execution_count": 6,
     "metadata": {},
     "output_type": "execute_result"
    }
   ],
   "source": [
    "b"
   ]
  },
  {
   "cell_type": "code",
   "execution_count": 7,
   "id": "0af9f786",
   "metadata": {
    "ExecuteTime": {
     "end_time": "2023-03-11T16:46:14.132187Z",
     "start_time": "2023-03-11T16:46:14.130117Z"
    }
   },
   "outputs": [
    {
     "data": {
      "text/plain": [
       "(torch.Size([1, 5]), torch.Size([1]))"
      ]
     },
     "execution_count": 7,
     "metadata": {},
     "output_type": "execute_result"
    }
   ],
   "source": [
    "W.shape, b.shape"
   ]
  },
  {
   "cell_type": "markdown",
   "id": "791d6c91",
   "metadata": {},
   "source": [
    "$$ z = \\boldsymbol x^T \\, {\\color{blue}W}^T + {\\color{blue} b} \\in \n",
    "\\mathbb R^{1\\times 1}  $$"
   ]
  },
  {
   "cell_type": "code",
   "execution_count": 8,
   "id": "bf8694d1",
   "metadata": {
    "ExecuteTime": {
     "end_time": "2023-03-11T16:46:14.135989Z",
     "start_time": "2023-03-11T16:46:14.133328Z"
    }
   },
   "outputs": [
    {
     "data": {
      "text/plain": [
       "torch.Size([1, 1])"
      ]
     },
     "execution_count": 8,
     "metadata": {},
     "output_type": "execute_result"
    }
   ],
   "source": [
    "z = torch.mm( xT, W.T ) + b\n",
    "z.shape"
   ]
  },
  {
   "cell_type": "code",
   "execution_count": 9,
   "id": "f93febbd",
   "metadata": {
    "ExecuteTime": {
     "end_time": "2023-03-11T16:46:14.139135Z",
     "start_time": "2023-03-11T16:46:14.136809Z"
    }
   },
   "outputs": [
    {
     "data": {
      "text/plain": [
       "tensor([[-2.4591]])"
      ]
     },
     "execution_count": 9,
     "metadata": {},
     "output_type": "execute_result"
    }
   ],
   "source": [
    "z"
   ]
  },
  {
   "cell_type": "markdown",
   "id": "bc445ef6",
   "metadata": {},
   "source": [
    "$$ a = {\\color{red} \\sigma}(z) \\in \n",
    "\\mathbb R^{1\\times 1}  $$"
   ]
  },
  {
   "cell_type": "code",
   "execution_count": 10,
   "id": "d6bd5f61",
   "metadata": {
    "ExecuteTime": {
     "end_time": "2023-03-11T16:46:14.143268Z",
     "start_time": "2023-03-11T16:46:14.140874Z"
    }
   },
   "outputs": [
    {
     "data": {
      "text/plain": [
       "tensor([[0.0788]])"
      ]
     },
     "execution_count": 10,
     "metadata": {},
     "output_type": "execute_result"
    }
   ],
   "source": [
    "a = torch.sigmoid(z)\n",
    "a"
   ]
  },
  {
   "cell_type": "code",
   "execution_count": null,
   "id": "9791a3e9",
   "metadata": {},
   "outputs": [],
   "source": []
  }
 ],
 "metadata": {
  "kernelspec": {
   "display_name": "Python 3 (ipykernel)",
   "language": "python",
   "name": "python3"
  },
  "language_info": {
   "codemirror_mode": {
    "name": "ipython",
    "version": 3
   },
   "file_extension": ".py",
   "mimetype": "text/x-python",
   "name": "python",
   "nbconvert_exporter": "python",
   "pygments_lexer": "ipython3",
   "version": "3.9.16"
  }
 },
 "nbformat": 4,
 "nbformat_minor": 5
}
