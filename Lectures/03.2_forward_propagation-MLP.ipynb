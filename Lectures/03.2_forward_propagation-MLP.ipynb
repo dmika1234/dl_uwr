{
 "cells": [
  {
   "cell_type": "markdown",
   "id": "79ae10a1",
   "metadata": {},
   "source": [
    "# Forward propagation"
   ]
  },
  {
   "cell_type": "code",
   "execution_count": 1,
   "id": "129d4449",
   "metadata": {
    "ExecuteTime": {
     "end_time": "2023-03-14T08:05:29.511990Z",
     "start_time": "2023-03-14T08:05:29.162819Z"
    }
   },
   "outputs": [],
   "source": [
    "import torch\n",
    "\n",
    "torch.manual_seed(1); # for the reproducibility"
   ]
  },
  {
   "cell_type": "markdown",
   "id": "36dfd53b",
   "metadata": {},
   "source": [
    "## Linear model"
   ]
  },
  {
   "cell_type": "code",
   "execution_count": 2,
   "id": "19c9a9b6",
   "metadata": {
    "ExecuteTime": {
     "end_time": "2023-03-14T08:05:29.534891Z",
     "start_time": "2023-03-14T08:05:29.516196Z"
    }
   },
   "outputs": [
    {
     "data": {
      "text/plain": [
       "tensor([[-8.,  1., -3.,  5.,  2.],\n",
       "        [-2.,  2., -1.,  5.,  2.],\n",
       "        [ 7.,  1.,  9., -5., -2.]])"
      ]
     },
     "execution_count": 2,
     "metadata": {},
     "output_type": "execute_result"
    }
   ],
   "source": [
    "X = torch.tensor([[-8.0, 1.0, -3.0, 5.0, 2.0], [-2.0, 2.0, -1.0, 5.0, 2.0], [7.0, 1.0, 9.0, -5.0, -2.0]])\n",
    "X"
   ]
  },
  {
   "cell_type": "code",
   "execution_count": 3,
   "id": "a04fd0e8",
   "metadata": {
    "ExecuteTime": {
     "end_time": "2023-03-14T08:05:29.565422Z",
     "start_time": "2023-03-14T08:05:29.545603Z"
    }
   },
   "outputs": [
    {
     "data": {
      "text/plain": [
       "torch.Size([3, 5])"
      ]
     },
     "execution_count": 3,
     "metadata": {},
     "output_type": "execute_result"
    }
   ],
   "source": [
    "X.shape"
   ]
  },
  {
   "cell_type": "code",
   "execution_count": 4,
   "id": "4411c0ed",
   "metadata": {
    "ExecuteTime": {
     "end_time": "2023-03-14T08:05:29.573507Z",
     "start_time": "2023-03-14T08:05:29.571234Z"
    }
   },
   "outputs": [],
   "source": [
    "W = torch.rand(5).view(1, 5)  # random numbers from (0, 1)\n",
    "b = torch.rand(1)"
   ]
  },
  {
   "cell_type": "code",
   "execution_count": 5,
   "id": "b368aee2",
   "metadata": {
    "ExecuteTime": {
     "end_time": "2023-03-14T08:05:29.577004Z",
     "start_time": "2023-03-14T08:05:29.574259Z"
    }
   },
   "outputs": [
    {
     "data": {
      "text/plain": [
       "tensor([[0.7576, 0.2793, 0.4031, 0.7347, 0.0293]])"
      ]
     },
     "execution_count": 5,
     "metadata": {},
     "output_type": "execute_result"
    }
   ],
   "source": [
    "W"
   ]
  },
  {
   "cell_type": "code",
   "execution_count": 6,
   "id": "a5865e33",
   "metadata": {
    "ExecuteTime": {
     "end_time": "2023-03-14T08:05:29.580110Z",
     "start_time": "2023-03-14T08:05:29.578070Z"
    }
   },
   "outputs": [
    {
     "data": {
      "text/plain": [
       "tensor([0.7999])"
      ]
     },
     "execution_count": 6,
     "metadata": {},
     "output_type": "execute_result"
    }
   ],
   "source": [
    "b"
   ]
  },
  {
   "cell_type": "code",
   "execution_count": 7,
   "id": "0761784a",
   "metadata": {
    "ExecuteTime": {
     "end_time": "2023-03-14T08:05:29.583345Z",
     "start_time": "2023-03-14T08:05:29.581001Z"
    }
   },
   "outputs": [
    {
     "data": {
      "text/plain": [
       "(torch.Size([1, 5]), torch.Size([1]))"
      ]
     },
     "execution_count": 7,
     "metadata": {},
     "output_type": "execute_result"
    }
   ],
   "source": [
    "W.shape, b.shape"
   ]
  },
  {
   "cell_type": "markdown",
   "id": "5effac7d",
   "metadata": {},
   "source": [
    "$$ \\boldsymbol z =  X\\, {\\color{blue}W}^T \\oplus {\\color{blue} b} \\in \n",
    "\\mathbb R^{{\\color{magenta}N}\\times 1}  $$"
   ]
  },
  {
   "cell_type": "code",
   "execution_count": 8,
   "id": "88e4d185",
   "metadata": {
    "ExecuteTime": {
     "end_time": "2023-03-14T08:05:29.586760Z",
     "start_time": "2023-03-14T08:05:29.584327Z"
    }
   },
   "outputs": [
    {
     "data": {
      "text/plain": [
       "torch.Size([3, 1])"
      ]
     },
     "execution_count": 8,
     "metadata": {},
     "output_type": "execute_result"
    }
   ],
   "source": [
    "z = torch.mm( X, W.T ) + b\n",
    "z.shape"
   ]
  },
  {
   "cell_type": "code",
   "execution_count": 9,
   "id": "9752c608",
   "metadata": {
    "ExecuteTime": {
     "end_time": "2023-03-14T08:05:29.591014Z",
     "start_time": "2023-03-14T08:05:29.588146Z"
    }
   },
   "outputs": [
    {
     "data": {
      "text/plain": [
       "tensor([[-2.4591],\n",
       "        [ 3.1721],\n",
       "        [ 6.2782]])"
      ]
     },
     "execution_count": 9,
     "metadata": {},
     "output_type": "execute_result"
    }
   ],
   "source": [
    "z"
   ]
  },
  {
   "cell_type": "markdown",
   "id": "2c225dac",
   "metadata": {},
   "source": [
    "$$ \\boldsymbol a = {\\color{red} \\sigma}(\\boldsymbol z) \\in \n",
    "\\mathbb R^{{\\color{magenta}N}\\times 1}  $$"
   ]
  },
  {
   "cell_type": "code",
   "execution_count": 10,
   "id": "11c5a997",
   "metadata": {
    "ExecuteTime": {
     "end_time": "2023-03-14T08:05:29.595178Z",
     "start_time": "2023-03-14T08:05:29.592892Z"
    }
   },
   "outputs": [
    {
     "data": {
      "text/plain": [
       "tensor([[0.0788],\n",
       "        [0.9598],\n",
       "        [0.9981]])"
      ]
     },
     "execution_count": 10,
     "metadata": {},
     "output_type": "execute_result"
    }
   ],
   "source": [
    "a = torch.sigmoid(z)\n",
    "a"
   ]
  },
  {
   "cell_type": "code",
   "execution_count": null,
   "id": "362707ec",
   "metadata": {},
   "outputs": [],
   "source": []
  }
 ],
 "metadata": {
  "kernelspec": {
   "display_name": "Python 3 (ipykernel)",
   "language": "python",
   "name": "python3"
  },
  "language_info": {
   "codemirror_mode": {
    "name": "ipython",
    "version": 3
   },
   "file_extension": ".py",
   "mimetype": "text/x-python",
   "name": "python",
   "nbconvert_exporter": "python",
   "pygments_lexer": "ipython3",
   "version": "3.9.16"
  }
 },
 "nbformat": 4,
 "nbformat_minor": 5
}
