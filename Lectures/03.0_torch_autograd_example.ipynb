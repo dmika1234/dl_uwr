{
 "cells": [
  {
   "cell_type": "markdown",
   "id": "8023dd1b",
   "metadata": {},
   "source": [
    "# Example 1. Derivative of simple scalar function"
   ]
  },
  {
   "cell_type": "code",
   "execution_count": 1,
   "id": "097b74bf",
   "metadata": {
    "ExecuteTime": {
     "end_time": "2023-03-14T13:38:58.792241Z",
     "start_time": "2023-03-14T13:38:58.381778Z"
    }
   },
   "outputs": [],
   "source": [
    "import torch"
   ]
  },
  {
   "cell_type": "markdown",
   "id": "94e15e4d",
   "metadata": {},
   "source": [
    "$$ y = x^2 + 7x + 20 $$"
   ]
  },
  {
   "cell_type": "code",
   "execution_count": 2,
   "id": "c0f0ca30",
   "metadata": {
    "ExecuteTime": {
     "end_time": "2023-03-14T13:38:58.795562Z",
     "start_time": "2023-03-14T13:38:58.793780Z"
    }
   },
   "outputs": [],
   "source": [
    "def f(x):\n",
    "    return x**2 + 7*x + 20"
   ]
  },
  {
   "cell_type": "markdown",
   "id": "ace5ea0b",
   "metadata": {},
   "source": [
    "$$ \\partial y / \\partial x = 2x + 7 $$"
   ]
  },
  {
   "cell_type": "code",
   "execution_count": null,
   "id": "4cfac0ec",
   "metadata": {},
   "outputs": [],
   "source": []
  },
  {
   "cell_type": "code",
   "execution_count": 3,
   "id": "904a948e",
   "metadata": {
    "ExecuteTime": {
     "end_time": "2023-03-14T13:38:58.798731Z",
     "start_time": "2023-03-14T13:38:58.796801Z"
    }
   },
   "outputs": [],
   "source": [
    "x = torch.tensor(-3.0, requires_grad=True)"
   ]
  },
  {
   "cell_type": "code",
   "execution_count": 4,
   "id": "6703e5a7",
   "metadata": {
    "ExecuteTime": {
     "end_time": "2023-03-14T13:38:58.802175Z",
     "start_time": "2023-03-14T13:38:58.800355Z"
    }
   },
   "outputs": [],
   "source": [
    "y = f(x)"
   ]
  },
  {
   "cell_type": "code",
   "execution_count": 5,
   "id": "27eef3ec",
   "metadata": {
    "ExecuteTime": {
     "end_time": "2023-03-14T13:38:58.806174Z",
     "start_time": "2023-03-14T13:38:58.802914Z"
    }
   },
   "outputs": [
    {
     "data": {
      "text/plain": [
       "tensor(8., grad_fn=<AddBackward0>)"
      ]
     },
     "execution_count": 5,
     "metadata": {},
     "output_type": "execute_result"
    }
   ],
   "source": [
    "y"
   ]
  },
  {
   "cell_type": "code",
   "execution_count": 6,
   "id": "c4943cf8",
   "metadata": {
    "ExecuteTime": {
     "end_time": "2023-03-14T13:38:58.826400Z",
     "start_time": "2023-03-14T13:38:58.807019Z"
    }
   },
   "outputs": [],
   "source": [
    "y.backward()"
   ]
  },
  {
   "cell_type": "code",
   "execution_count": 7,
   "id": "261f8673",
   "metadata": {
    "ExecuteTime": {
     "end_time": "2023-03-14T13:38:58.831094Z",
     "start_time": "2023-03-14T13:38:58.827421Z"
    }
   },
   "outputs": [
    {
     "data": {
      "text/plain": [
       "tensor(1.)"
      ]
     },
     "execution_count": 7,
     "metadata": {},
     "output_type": "execute_result"
    }
   ],
   "source": [
    "x.grad"
   ]
  },
  {
   "cell_type": "markdown",
   "id": "17afd17e",
   "metadata": {},
   "source": [
    "# Example 2. Derivative of sigmoid function"
   ]
  },
  {
   "cell_type": "code",
   "execution_count": 8,
   "id": "dcc9f553",
   "metadata": {
    "ExecuteTime": {
     "end_time": "2023-03-14T13:38:58.835253Z",
     "start_time": "2023-03-14T13:38:58.832143Z"
    }
   },
   "outputs": [
    {
     "data": {
      "text/plain": [
       "tensor([ 5., -2., -1.,  3.], requires_grad=True)"
      ]
     },
     "execution_count": 8,
     "metadata": {},
     "output_type": "execute_result"
    }
   ],
   "source": [
    "z = torch.tensor([5.0, -2.0, -1.0, 3.0], requires_grad=True)\n",
    "z"
   ]
  },
  {
   "cell_type": "code",
   "execution_count": 9,
   "id": "2d94b56b",
   "metadata": {
    "ExecuteTime": {
     "end_time": "2023-03-14T13:38:58.838208Z",
     "start_time": "2023-03-14T13:38:58.836327Z"
    }
   },
   "outputs": [],
   "source": [
    "a = torch.sigmoid(z)"
   ]
  },
  {
   "cell_type": "code",
   "execution_count": 10,
   "id": "92e3e1b2",
   "metadata": {
    "ExecuteTime": {
     "end_time": "2023-03-14T13:38:58.846329Z",
     "start_time": "2023-03-14T13:38:58.842510Z"
    }
   },
   "outputs": [
    {
     "data": {
      "text/plain": [
       "tensor([0.9933, 0.1192, 0.2689, 0.9526], grad_fn=<SigmoidBackward0>)"
      ]
     },
     "execution_count": 10,
     "metadata": {},
     "output_type": "execute_result"
    }
   ],
   "source": [
    "a"
   ]
  },
  {
   "cell_type": "code",
   "execution_count": 11,
   "id": "252f1f4a",
   "metadata": {
    "ExecuteTime": {
     "end_time": "2023-03-14T13:38:58.850094Z",
     "start_time": "2023-03-14T13:38:58.847761Z"
    }
   },
   "outputs": [],
   "source": [
    "a[2].backward()"
   ]
  },
  {
   "cell_type": "code",
   "execution_count": 12,
   "id": "fcdb3732",
   "metadata": {
    "ExecuteTime": {
     "end_time": "2023-03-14T13:38:58.854048Z",
     "start_time": "2023-03-14T13:38:58.851084Z"
    }
   },
   "outputs": [
    {
     "data": {
      "text/plain": [
       "tensor([0.0000, 0.0000, 0.1966, 0.0000])"
      ]
     },
     "execution_count": 12,
     "metadata": {},
     "output_type": "execute_result"
    }
   ],
   "source": [
    "z.grad"
   ]
  },
  {
   "cell_type": "code",
   "execution_count": 13,
   "id": "2ebe627d",
   "metadata": {
    "ExecuteTime": {
     "end_time": "2023-03-14T13:38:58.858530Z",
     "start_time": "2023-03-14T13:38:58.855348Z"
    }
   },
   "outputs": [
    {
     "data": {
      "text/plain": [
       "tensor(0.1966, grad_fn=<MulBackward0>)"
      ]
     },
     "execution_count": 13,
     "metadata": {},
     "output_type": "execute_result"
    }
   ],
   "source": [
    "a[2]*(1-a[2])"
   ]
  },
  {
   "cell_type": "code",
   "execution_count": null,
   "id": "35e92fcc",
   "metadata": {},
   "outputs": [],
   "source": []
  },
  {
   "cell_type": "code",
   "execution_count": 14,
   "id": "e1b77cda",
   "metadata": {
    "ExecuteTime": {
     "end_time": "2023-03-14T13:38:58.861497Z",
     "start_time": "2023-03-14T13:38:58.859745Z"
    }
   },
   "outputs": [],
   "source": [
    "import torch"
   ]
  },
  {
   "cell_type": "code",
   "execution_count": 15,
   "id": "8c026ea7",
   "metadata": {
    "ExecuteTime": {
     "end_time": "2023-03-14T13:38:58.865815Z",
     "start_time": "2023-03-14T13:38:58.862486Z"
    }
   },
   "outputs": [
    {
     "data": {
      "text/plain": [
       "tensor([ 5., -2., -1.,  3.], requires_grad=True)"
      ]
     },
     "execution_count": 15,
     "metadata": {},
     "output_type": "execute_result"
    }
   ],
   "source": [
    "z = torch.tensor([5.0, -2.0, -1.0, 3.0], requires_grad=True)\n",
    "z"
   ]
  },
  {
   "cell_type": "code",
   "execution_count": 16,
   "id": "27fb7bbe",
   "metadata": {
    "ExecuteTime": {
     "end_time": "2023-03-14T13:38:58.868692Z",
     "start_time": "2023-03-14T13:38:58.866766Z"
    }
   },
   "outputs": [],
   "source": [
    "a = torch.softmax(z, dim=0)"
   ]
  },
  {
   "cell_type": "code",
   "execution_count": 17,
   "id": "c6837ec7",
   "metadata": {
    "ExecuteTime": {
     "end_time": "2023-03-14T13:38:58.872474Z",
     "start_time": "2023-03-14T13:38:58.869865Z"
    }
   },
   "outputs": [
    {
     "data": {
      "text/plain": [
       "tensor([8.7817e-01, 8.0079e-04, 2.1768e-03, 1.1885e-01],\n",
       "       grad_fn=<SoftmaxBackward0>)"
      ]
     },
     "execution_count": 17,
     "metadata": {},
     "output_type": "execute_result"
    }
   ],
   "source": [
    "a"
   ]
  },
  {
   "cell_type": "code",
   "execution_count": 18,
   "id": "95036ac8",
   "metadata": {
    "ExecuteTime": {
     "end_time": "2023-03-14T13:38:58.875205Z",
     "start_time": "2023-03-14T13:38:58.873428Z"
    }
   },
   "outputs": [],
   "source": [
    "a[2].backward()"
   ]
  },
  {
   "cell_type": "code",
   "execution_count": 19,
   "id": "11cb9a9f",
   "metadata": {
    "ExecuteTime": {
     "end_time": "2023-03-14T13:38:58.878679Z",
     "start_time": "2023-03-14T13:38:58.876101Z"
    }
   },
   "outputs": [
    {
     "data": {
      "text/plain": [
       "tensor([-1.9116e-03, -1.7431e-06,  2.1720e-03, -2.5871e-04])"
      ]
     },
     "execution_count": 19,
     "metadata": {},
     "output_type": "execute_result"
    }
   ],
   "source": [
    "z.grad"
   ]
  },
  {
   "cell_type": "code",
   "execution_count": 20,
   "id": "b177157e",
   "metadata": {
    "ExecuteTime": {
     "end_time": "2023-03-14T13:38:58.883374Z",
     "start_time": "2023-03-14T13:38:58.879750Z"
    }
   },
   "outputs": [
    {
     "data": {
      "text/plain": [
       "tensor([[ 1.0698e-01, -7.0323e-04, -1.9116e-03, -1.0437e-01],\n",
       "        [-7.0323e-04,  8.0015e-04, -1.7431e-06, -9.5172e-05],\n",
       "        [-1.9116e-03, -1.7431e-06,  2.1720e-03, -2.5871e-04],\n",
       "        [-1.0437e-01, -9.5172e-05, -2.5871e-04,  1.0472e-01]],\n",
       "       grad_fn=<SubBackward0>)"
      ]
     },
     "execution_count": 20,
     "metadata": {},
     "output_type": "execute_result"
    }
   ],
   "source": [
    "torch.diag(a) - torch.mm( a.view(4, 1), a.view(1, 4) )"
   ]
  }
 ],
 "metadata": {
  "kernelspec": {
   "display_name": "Python 3 (ipykernel)",
   "language": "python",
   "name": "python3"
  },
  "language_info": {
   "codemirror_mode": {
    "name": "ipython",
    "version": 3
   },
   "file_extension": ".py",
   "mimetype": "text/x-python",
   "name": "python",
   "nbconvert_exporter": "python",
   "pygments_lexer": "ipython3",
   "version": "3.9.16"
  }
 },
 "nbformat": 4,
 "nbformat_minor": 5
}
