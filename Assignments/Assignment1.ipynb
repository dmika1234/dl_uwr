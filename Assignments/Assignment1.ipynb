{
 "cells": [
  {
   "attachments": {},
   "cell_type": "markdown",
   "metadata": {},
   "source": [
    "<a href=\"https://colab.research.google.com/github/dmika1234/dl_uwr/blob/develop/Assignments/Assignment1.ipynb\" target=\"_parent\"><img src=\"https://colab.research.google.com/assets/colab-badge.svg\" alt=\"Open In Colab\"/></a>"
   ]
  },
  {
   "cell_type": "markdown",
   "metadata": {
    "cell_id": "00001-caefeb56-f9c5-4f9e-a096-b89246dc63d7",
    "deepnote_app_coordinates": {
     "h": 5,
     "w": 12,
     "x": 0,
     "y": 6
    },
    "deepnote_cell_type": "markdown",
    "id": "CGXgWugfJ0Vl"
   },
   "source": [
    "## Assignment 1\n",
    "\n",
    "**Submission deadlines:** \n",
    "- get at least **2** points by Tuesday, 07.03.2023\n",
    "- get at least another **2** points (see problem 8) by Tuesday, 14.03.2023 \n",
    "- remaining points: last lab session before or on Thursday, <s>16</s>23.03.2023\n",
    "\n",
    "**Points:** Aim to get 8 out of 14 possible points\n",
    "\n",
    "## Submission instructions\n",
    "The class is held on-site in lab rooms. Please prepare you notebook on your computer or anywhere in the cloud (try using DeepNote or Google Colab).\n",
    "Make sure you know all the questions and asnwers, and that the notebook contains results; bfore presentation do `Runtime -> Restart and run all`\n",
    "![Picture title](image-20220302-183151.png)\n",
    "\n",
    "We provide starter code, however you are not required to use it as long as you properly solve the tasks.\n"
   ]
  },
  {
   "cell_type": "markdown",
   "metadata": {
    "cell_id": "00002-c92cc86e-f65f-4e16-9124-9ca4d4265c88",
    "deepnote_app_coordinates": {
     "h": 5,
     "w": 12,
     "x": 0,
     "y": 12
    },
    "deepnote_cell_type": "markdown",
    "id": "5S8iRaCPyO2a"
   },
   "source": [
    "# Task description\n",
    "\n",
    "## TLDR\n",
    "Implement and train a neural network using pure numpy."
   ]
  },
  {
   "cell_type": "markdown",
   "metadata": {
    "cell_id": "00003-1893a0a0-4515-4960-bce8-37f660543eea",
    "deepnote_app_coordinates": {
     "h": 5,
     "w": 12,
     "x": 0,
     "y": 18
    },
    "deepnote_cell_type": "markdown",
    "id": "JHcz7I2V-bVM"
   },
   "source": [
    "\n",
    "## Problem 1 [2p]\n",
    "Implement a two-layer network, manually set weights and biases to solve the XOR task.\n",
    "\n",
    "A two-layer neural network implementes a function $f: \\mathbb{R}^D \\rightarrow \\mathbb{R}^O$ where $D$ is the input dimensionality and $O$ is the output dinemsionality. The output goes through an intermediate representation (the hidden layer) with dimensionality $H$. \n",
    "\n",
    "The computations are as follows:\n",
    "$$\n",
    "\\begin{aligned}\n",
    "A_1 &= x W_1^T + b_1  & \\qquad\\text{Total input to neurons in the hidden layer (network's first layer)} \\\\\n",
    "O_1 &= \\sigma_1(A_1)  & \\qquad\\text{Output of the hidden layer} \\\\\n",
    "A_2 &= O_1 W_2^T + b_2 & \\qquad\\text{Total input to neurons in the output layer (network's second layer)}\\\\\n",
    "O_2 &= \\sigma_2(A_2)  & \\qquad\\text{Output of the network}\n",
    "\\end{aligned}\n",
    "$$\n",
    "\n",
    "Where $W$ are weight matrices, $b$ are bias vectors, $\\sigma$ are non-linear activation functions (e.g. the logistic sigmoid applied element-wise, or softmax).\n",
    "\n",
    "For the 2D xor problem the network will:\n",
    "- have 2 inputs, 2 hidden neurons, one output\n",
    "- use the logistic sigmoid everywhere (that way we, when hand-designig the weights, we can assume that neurons' outputs are binary).\n",
    "\n",
    "Therrefore the shapes of the data flowing through the network will be:\n",
    "- input: $x\\in\\mathbb{}R^{2}$\n",
    "- hidden layer parameters: $W_1\\in\\mathbb{}R^{2\\times 2}$ and $b_1\\in\\mathbb{}R^{2}$\n",
    "- representations in the hidden layer: $A_1\\in\\mathbb{}R^{2}$ and $O_1\\in\\mathbb{}R^{2}$\n",
    "- output layer parameters: $W_2\\in\\mathbb{}R^{1\\times 2}$ and $b_2\\in\\mathbb{}R^{1}$\n",
    "- representations in the output layer: $A_2\\in\\mathbb{}R^{1}$ and $O_2\\in\\mathbb{}R^{1}$\n",
    "\n",
    "The network can be seen as a logistic regression model, prefixed by a nonlinear transformation of the data.\n",
    "\n",
    "The first tasks consists of:\n",
    "- implementing the network\n",
    "- selecting parametwrs ($W_1, b_1, W_2, b_2$) such that $f(x)\\approx XOR(x_1, x_2)$ where the approximation is die to the sigmoids - the output may be close to 0 or 1, but doesn't need to saturate at 0 or 1.\n",
    "\n",
    "NB: the convention on weight matrix shapes follows linear [layers in PyTorch](https://pytorch.org/docs/stable/generated/torch.nn.Linear.html).\n"
   ]
  },
  {
   "cell_type": "markdown",
   "metadata": {
    "cell_id": "00004-0d502510-cfd1-44da-b88c-da6aaf275617",
    "deepnote_app_coordinates": {
     "h": 5,
     "w": 12,
     "x": 0,
     "y": 24
    },
    "deepnote_cell_type": "markdown",
    "id": "0QSpZxuH-bLe"
   },
   "source": [
    "## Problem 2 [2p]\n",
    "1. Add a backward pass.\n",
    "2. Use a sensible random initialization for weights and biases.\n",
    "3. Numerically check the correctness of your gradient computation.\n",
    "\n",
    "There is nice article about taking derivative over vectors and vector chain rule: https://explained.ai/matrix-calculus/ if someone don't have experience with such calculus.\n"
   ]
  },
  {
   "cell_type": "markdown",
   "metadata": {
    "cell_id": "00005-96083315-f850-4103-946e-cc9b11377543",
    "deepnote_app_coordinates": {
     "h": 5,
     "w": 12,
     "x": 0,
     "y": 30
    },
    "deepnote_cell_type": "markdown",
    "id": "s1Tn8j0m-bAy"
   },
   "source": [
    "## Problem 3 [2p]\n",
    "1. Implement gradient descent\n",
    "2. Train your network to solve 3D XOR\n",
    "3. Try several hidden layer sizes, for each size record the fracton of successful trainings. Then answer:\n",
    "    - What is the minimal hidden size required to solve 3D XOR (even with low reliability, when the training has to be repeated multiple times)\n",
    "    - What is the minimal hidden size required to reliably solve 3D XOR\n",
    "    - Which networks are easier to train - small or large ones? Why?\n"
   ]
  },
  {
   "cell_type": "markdown",
   "metadata": {
    "cell_id": "00006-94cc4eb9-0202-4308-9a9e-007db44a6a98",
    "deepnote_app_coordinates": {
     "h": 5,
     "w": 12,
     "x": 0,
     "y": 36
    },
    "deepnote_cell_type": "markdown",
    "id": "RP9Pvpmf-a2A"
   },
   "source": [
    "## Problem 4 [1p]\n",
    "Replace the first nonlinearity with the [ReLU](https://en.wikipedia.org/wiki/Rectifier_(neural_networks)) activation function. Find a network architecture which reliably learns the 3D XOR problem.\n"
   ]
  },
  {
   "cell_type": "markdown",
   "metadata": {
    "cell_id": "00007-9e6e984c-5131-4333-837b-7e57c4bfb650",
    "deepnote_app_coordinates": {
     "h": 5,
     "w": 12,
     "x": 0,
     "y": 42
    },
    "deepnote_cell_type": "markdown",
    "id": "cGgtpe-w-asB"
   },
   "source": [
    "## Problem 5 [1p]\n",
    "Add a second hidden layer to your network, implement the forward and backward pass, then demonstrate training.\n"
   ]
  },
  {
   "cell_type": "markdown",
   "metadata": {
    "cell_id": "00008-86ea4bdd-83dc-4197-baad-d216fbacc786",
    "deepnote_app_coordinates": {
     "h": 5,
     "w": 12,
     "x": 0,
     "y": 48
    },
    "deepnote_cell_type": "markdown",
    "id": "Pe-pcFeO-aiE"
   },
   "source": [
    "## Problem 6 [2p]\n",
    "Implement a way to have a _variable number_ of hidden layers. Check how deep sigmoid or ReLU networks you  can train. For simplicity you can assume that all hidden layers have the same number of neurons, and use the same activation function.\n"
   ]
  },
  {
   "cell_type": "markdown",
   "metadata": {
    "cell_id": "00009-64a0b978-7933-40be-89e4-a3d35d52c7ab",
    "deepnote_app_coordinates": {
     "h": 5,
     "w": 12,
     "x": 0,
     "y": 54
    },
    "deepnote_cell_type": "markdown",
    "id": "kIpn17Cm-aW7"
   },
   "source": [
    "## Problem 7 [2p]\n",
    "For each weight matrix $w\\in\\mathbb{R}^{n\\times m}$, add a randomly initialized `backward weight` $w_b\\in\\mathbb{R}^{m\\times n}$, which will not change during training. Change the backward pass to use $w_b$ instead of $w^T$, getting an approxmatoin of the true gradient. Can you get your network to train?\n",
    "\n",
    "NB: this approach, dubbed [feedback alignment](https://www.nature.com/articles/ncomms13276), was proposed to make error backpropagation more biologically plausible, by providing a solution to the \"weight transport problem\". Regular backpropagation requires that neurons not only know their incoming weights (that they control), but also their outgoing weights (that are controlled by neurons in the upper layers). This is nearly impossible in a real brain."
   ]
  },
  {
   "cell_type": "markdown",
   "metadata": {},
   "source": [
    "## Problem 8 [2p]\n",
    "Consider the following function $\\boldsymbol f: \\mathbb R^n \\to \\mathbb R^k$:\n",
    "$$ \\hat{\\boldsymbol y} := \\boldsymbol f(\\boldsymbol x\\,;\\,\\,W, \\boldsymbol b) = \\mathrm{softmax}(\\boldsymbol z) \\qquad (\\boldsymbol x \\in \\mathbb R^{n}, \\, W \\in\\mathbb R^{k\\times n}, \\, \\boldsymbol b \\in \\mathbb R^k), $$\n",
    "where $$ \\boldsymbol z = W  \\boldsymbol x + \\boldsymbol b $$\n",
    "and $W, \\boldsymbol b$ are the parameters.\n",
    "\n",
    "Analytically derive the form of the following gradients:\n",
    "\n",
    "$$ \\frac{\\partial \\hat{\\boldsymbol y}}{\\boldsymbol z} = \\ldots $$\n",
    "\n",
    "$$ \\frac{\\partial \\hat{\\boldsymbol y}}{W_{ij}} = \\ldots $$\n",
    "\n",
    "$$ \\frac{\\partial \\hat{\\boldsymbol y}}{\\boldsymbol b} = \\ldots $$"
   ]
  },
  {
   "cell_type": "markdown",
   "metadata": {
    "cell_id": "00010-954fd65b-4d81-4bbc-bf6b-4d10d50be9b8",
    "deepnote_app_coordinates": {
     "h": 5,
     "w": 12,
     "x": 0,
     "y": 60
    },
    "deepnote_cell_type": "markdown",
    "id": "rXJaoHSH0DZO"
   },
   "source": [
    "# Solutions and starter code"
   ]
  },
  {
   "cell_type": "code",
   "execution_count": 3,
   "metadata": {
    "cell_id": "00011-97f2c7fe-a3d5-4a6b-bc12-8a96bfeed475",
    "deepnote_app_coordinates": {
     "h": 5,
     "w": 12,
     "x": 0,
     "y": 66
    },
    "deepnote_cell_type": "code",
    "id": "YiTEWD2oqW0Y"
   },
   "outputs": [],
   "source": [
    "import matplotlib.pyplot as plt\n",
    "import numpy as np"
   ]
  },
  {
   "cell_type": "markdown",
   "metadata": {
    "cell_id": "00012-8bc44e88-e665-483d-89fc-c866879ad335",
    "deepnote_app_coordinates": {
     "h": 5,
     "w": 12,
     "x": 0,
     "y": 72
    },
    "deepnote_cell_type": "markdown",
    "id": "eqtfJKR40J3x"
   },
   "source": [
    "XOR dataset creation"
   ]
  },
  {
   "cell_type": "code",
   "execution_count": 4,
   "metadata": {
    "cell_id": "00013-3adfc55c-5dcc-476a-9e4a-328f2044ebc1",
    "colab": {
     "base_uri": "https://localhost:8080/",
     "height": 296
    },
    "deepnote_app_coordinates": {
     "h": 5,
     "w": 12,
     "x": 0,
     "y": 78
    },
    "deepnote_cell_type": "code",
    "id": "lYEbCfbSpv5M",
    "outputId": "48a99aad-e15b-4c7b-f881-bbfbe1941a15"
   },
   "outputs": [
    {
     "data": {
      "text/plain": [
       "(-0.05, 1.05, -0.05, 1.05)"
      ]
     },
     "execution_count": 4,
     "metadata": {},
     "output_type": "execute_result"
    },
    {
     "data": {
      "image/png": "[encoded data removed]",
      "text/plain": [
       "<Figure size 640x480 with 1 Axes>"
      ]
     },
     "metadata": {},
     "output_type": "display_data"
    }
   ],
   "source": [
    "# Let's define a XOR dataset\n",
    "\n",
    "# X will be matrix of N 2-dimensional inputs\n",
    "X = np.array([[0, 0], [0, 1], [1, 0], [1, 1],], dtype=np.float32)\n",
    "# Y is a matrix of N numners - answers\n",
    "Y = np.array([[0], [1], [1], [0],], dtype=np.float32)\n",
    "\n",
    "plt.scatter(\n",
    "    X[:, 0], X[:, 1], c=Y[:, 0],\n",
    ")\n",
    "plt.xlabel(\"X[0]\")\n",
    "plt.ylabel(\"X[1]\")\n",
    "plt.axis(\"square\")"
   ]
  },
  {
   "cell_type": "markdown",
   "metadata": {
    "cell_id": "00014-fe501b87-4247-497d-a7c7-f528483d31cc",
    "deepnote_app_coordinates": {
     "h": 5,
     "w": 12,
     "x": 0,
     "y": 84
    },
    "deepnote_cell_type": "markdown",
    "id": "Rb3azMn929_I"
   },
   "source": [
    "## Problem 1"
   ]
  },
  {
   "cell_type": "markdown",
   "metadata": {
    "cell_id": "00015-97a3483d-0ae6-4bee-afd5-6226abc622a5",
    "deepnote_app_coordinates": {
     "h": 5,
     "w": 12,
     "x": 0,
     "y": 90
    },
    "deepnote_cell_type": "markdown",
    "id": "RZCM_hdELE04"
   },
   "source": [
    "The code below contains a mock-up of a two-layer neural network. Fill in the code and manually set weights to solve the XOR problem.\n",
    "\n",
    "Please note: the shapes are set to be compatible with PyTorch's conventions:\n",
    "* a batch containing $N$ $D$-dimensional examples has shape $N\\times D$ (each example is a row!)\n",
    "* a weight matrix in a linear layer with $I$ inputs and $O$ outputs has shape $O \\times I$\n",
    "* a bias vector is a 1D vector. Please note that [broadcasting rules](https://docs.scipy.org/doc/numpy/user/basics.broadcasting.html) allow us to think about it as a $1 \\times D$ matrix."
   ]
  },
  {
   "cell_type": "code",
   "execution_count": 5,
   "metadata": {
    "cell_id": "00016-87dd53c6-4f21-4286-8a85-61c2a92fa819",
    "deepnote_app_coordinates": {
     "h": 5,
     "w": 12,
     "x": 0,
     "y": 96
    },
    "deepnote_cell_type": "code",
    "id": "lrrRuk6zLiF0"
   },
   "outputs": [],
   "source": [
    "def sigmoid(x):\n",
    "    return 1 / (1 + np.exp(-x))\n",
    "\n",
    "def sigmoid_grad(sigmoid):\n",
    "    return sigmoid*(1 - sigmoid)\n",
    "\n",
    "\n",
    "class SmallNet:\n",
    "    def __init__(self, in_features, num_hidden, dtype=np.float32, random_params=False):\n",
    "        self.W1 = np.zeros((num_hidden, in_features), dtype=dtype)\n",
    "        self.b1 = np.zeros((num_hidden,), dtype=dtype)\n",
    "        self.W2 = np.zeros((1, num_hidden), dtype=dtype)\n",
    "        self.b2 = np.zeros((1,), dtype=dtype)\n",
    "        if random_params:\n",
    "            self.init_params(num_hidden, in_features)\n",
    "\n",
    "    def init_params(self, num_hidden, in_features):\n",
    "        # TODO for Problem 2:\n",
    "        self.W1 = np.array(np.random.normal(0, 0.5, num_hidden * in_features)).reshape(num_hidden, in_features)\n",
    "        self.b1 = np.array(np.random.normal(0, 0.5, num_hidden))\n",
    "        self.W2 = np.array(np.random.normal(0, 0.5, num_hidden)).reshape(1, num_hidden)\n",
    "        self.b2 = np.array(np.random.normal(0, 0.5, 1)).reshape(1, )\n",
    "        \n",
    "\n",
    "    def forward(self, X, Y=None, do_backward=False):\n",
    "        # TODO Problem 1: Fill in details of forward propagation\n",
    "        \n",
    "        # Input to neurons in 1st layer\n",
    "        A1 = np.dot(X, self.W1.T) + self.b1\n",
    "        # Outputs after the sigmoid non-linearity\n",
    "        O1 = sigmoid(A1)\n",
    "        # Inputs to neuron in the second layer\n",
    "        A2 = np.dot(O1, self.W2.T) + self.b2\n",
    "        # Outputs after the sigmoid non-linearity\n",
    "        O2 = sigmoid(A2)\n",
    "\n",
    "        # When Y is none, simply return the predictions. Else compute the loss\n",
    "        if Y is not None:\n",
    "            loss = -(Y*np.log(O2) + (1 - Y)*np.log(1-O2))\n",
    "            # normalize loss by batch size\n",
    "            loss = loss.sum() / X.shape[0]\n",
    "        else:\n",
    "            loss = np.nan\n",
    "\n",
    "        if do_backward:\n",
    "        #     # TODO in Problem 2:\n",
    "        #     # fill in the gradient computation\n",
    "        #     # Please note, that there is a correspondance between\n",
    "        #     # the forward and backward pass: with backward computations happening\n",
    "        #     # in reverse order.\n",
    "        #     # We save the gradients with respect to the parameters as fields of self.\n",
    "        #     # It is not very elegant, but simplifies training code later on.\n",
    "\n",
    "        #     # A2_grad is the gradient of loss with respect to A2\n",
    "        #     # Hint: there is a concise formula for the gradient\n",
    "        #     # of logistic sigmoid and cross-entropy loss\n",
    "            # O2_grad = (1-Y)/(1-O2)- Y / O2\n",
    "            # A2_grad = O2_grad * sigmoid_grad(O2)\n",
    "            A2_grad = (1-Y)*O2 - Y*(1 - O2)\n",
    "            self.b2_grad = A2_grad.sum(0) / A2_grad.shape[0]\n",
    "            self.W2_grad = np.dot(A2_grad.T, O1) / A2_grad.shape[0]\n",
    "            O1_grad = np.dot(A2_grad, self.W2)\n",
    "            A1_grad = O1_grad * sigmoid_grad(O1)\n",
    "            self.b1_grad = A1_grad.sum(0) / A1_grad.shape[0]\n",
    "            self.W1_grad = np.dot(A1_grad.T, X) / A1_grad.shape[0]\n",
    "\n",
    "        return O2, loss\n",
    "    \n",
    "    def train(self, X, Y, alpha=0.01, verbose=False):\n",
    "        for i in range(100000):\n",
    "            _, loss = self.forward(X, Y, do_backward=True)\n",
    "            if (i % 5000) == 0 and verbose:\n",
    "                print(f\"after {i} steps \\tloss={loss}\")\n",
    "            for param_name in [\"W1\", \"b1\", \"W2\", \"b2\"]:\n",
    "                param = getattr(self, param_name)\n",
    "                # grad = getattr(net, param_name + '_grad')\n",
    "                # Hint: use the construct `param[:]` to change the contents of the array!\n",
    "                # Doing instead `param = new_val` simply changes to what the variable\n",
    "                # param points to, without affecting the network!\n",
    "                # alternatively, you could do setattr(net, param_name, new_value)\n",
    "                # setattr(net, param_name, param - alpha * grad)\n",
    "                param[:] = param - alpha * getattr(self, param_name + '_grad')\n",
    "        return loss\n"
   ]
  },
  {
   "cell_type": "code",
   "execution_count": 4,
   "metadata": {},
   "outputs": [
    {
     "name": "stdout",
     "output_type": "stream",
     "text": [
      "XORnet([0. 0.]) = 0.033377521036703564\n",
      "XORnet([0. 1.]) = 0.9997641281023015\n",
      "XORnet([1. 0.]) = 0.9997641281023015\n",
      "XORnet([1. 1.]) = 7.0116468141944155e-37\n"
     ]
    }
   ],
   "source": [
    "# TODO Problem 1:\n",
    "# Set by hand the weight values to solve the XOR problem\n",
    "\n",
    "net = SmallNet(2, 2, dtype=np.float64)\n",
    "net.W1 = np.array([[4, -1], \n",
    "                   [-1, 4]])\n",
    "net.b1 = np.array([[2, 2]])\n",
    "net.W2 = np.array([[-355, -355]])\n",
    "net.b2 = np.array([[622]])\n",
    "\n",
    "# Hint: since we use the logistic sigmoid activation, the weights may need to\n",
    "# be fairly large\n",
    "\n",
    "\n",
    "predictions, loss = net.forward(X, Y, do_backward=True)\n",
    "for x, p in zip(X, predictions):\n",
    "    print(f\"XORnet({x}) = {p[0]}\")"
   ]
  },
  {
   "cell_type": "markdown",
   "metadata": {
    "cell_id": "00018-9f8740d2-90e7-4d20-a535-002df8547aba",
    "deepnote_app_coordinates": {
     "h": 5,
     "w": 12,
     "x": 0,
     "y": 108
    },
    "deepnote_cell_type": "markdown",
    "id": "wmxCi5Vl6_xB"
   },
   "source": [
    "## Problem 2"
   ]
  },
  {
   "cell_type": "code",
   "execution_count": 6,
   "metadata": {
    "cell_id": "00019-8f804996-a00a-4bb5-a524-ad056659e023",
    "deepnote_app_coordinates": {
     "h": 5,
     "w": 12,
     "x": 0,
     "y": 114
    },
    "deepnote_cell_type": "code",
    "id": "eSM5hgJ1mrhY"
   },
   "outputs": [],
   "source": [
    "def check_grad(net, param_name, X, Y, eps=1e-5):\n",
    "    \"\"\"A gradient checking routine\"\"\"\n",
    "\n",
    "    param = getattr(net, param_name)\n",
    "    param_flat_accessor = param.reshape(-1)\n",
    "\n",
    "    grad = np.empty_like(param)\n",
    "    grad_flat_accessor = grad.reshape(-1)\n",
    "\n",
    "    net.forward(X, Y, do_backward=True)\n",
    "    orig_grad = getattr(net, param_name + \"_grad\")\n",
    "    assert param.shape == orig_grad.shape\n",
    "\n",
    "    for i in range(param_flat_accessor.shape[0]):\n",
    "        orig_val = param_flat_accessor[i]\n",
    "        param_flat_accessor[i] = orig_val + eps\n",
    "        _, loss_positive = net.forward(X, Y)\n",
    "        param_flat_accessor[i] = orig_val - eps\n",
    "        _, loss_negative = net.forward(X, Y)\n",
    "        param_flat_accessor[i] = orig_val\n",
    "        grad_flat_accessor[i] = (loss_positive - loss_negative) / (2 * eps)\n",
    "        \n",
    "    assert np.allclose(grad, orig_grad)\n",
    "    return grad, orig_grad"
   ]
  },
  {
   "cell_type": "code",
   "execution_count": 58,
   "metadata": {
    "cell_id": "00020-1c4174cf-f129-4cad-adad-4734810a8ce1",
    "deepnote_app_coordinates": {
     "h": 5,
     "w": 12,
     "x": 0,
     "y": 120
    },
    "deepnote_cell_type": "code",
    "id": "TTZu0jFEvgXF"
   },
   "outputs": [],
   "source": [
    "# Hint: use float64 for checking the correctness of the gradient\n",
    "net = SmallNet(2, 2, dtype=np.float64, random_params=True)\n",
    "\n",
    "for param_name in [\"W1\", \"b1\", \"W2\", \"b2\"]:\n",
    "    check_grad(net, param_name, X, Y)"
   ]
  },
  {
   "cell_type": "markdown",
   "metadata": {
    "cell_id": "00021-145837f8-c83f-4aab-8e62-0114e59f30fe",
    "deepnote_app_coordinates": {
     "h": 5,
     "w": 12,
     "x": 0,
     "y": 126
    },
    "deepnote_cell_type": "markdown",
    "id": "8mUOs3cVvjM2"
   },
   "source": [
    "## Problem 3"
   ]
  },
  {
   "cell_type": "code",
   "execution_count": 117,
   "metadata": {
    "cell_id": "00022-91b3eba0-6025-4839-847c-f5cb275fad07",
    "colab": {
     "base_uri": "https://localhost:8080/"
    },
    "deepnote_app_coordinates": {
     "h": 5,
     "w": 12,
     "x": 0,
     "y": 132
    },
    "deepnote_cell_type": "code",
    "id": "nn2AAoZo0vjU",
    "outputId": "7b6b5a9a-dea5-4357-e8c1-36a34c7c272a"
   },
   "outputs": [
    {
     "name": "stdout",
     "output_type": "stream",
     "text": [
      "after 0 steps \tloss=0.8684305979084279\n",
      "after 5000 steps \tloss=0.6651757438950536\n",
      "after 10000 steps \tloss=0.5987843548727496\n",
      "after 15000 steps \tloss=0.47258534317314804\n",
      "after 20000 steps \tloss=0.3331954848887876\n",
      "after 25000 steps \tloss=0.213025610582801\n",
      "after 30000 steps \tloss=0.13252809368948704\n",
      "after 35000 steps \tloss=0.08582928779027563\n",
      "after 40000 steps \tloss=0.059202871626191214\n",
      "after 45000 steps \tloss=0.043348235579622266\n",
      "after 50000 steps \tloss=0.03332949896281161\n",
      "after 55000 steps \tloss=0.026629766478168365\n",
      "after 60000 steps \tloss=0.021926468295220707\n",
      "after 65000 steps \tloss=0.01848863849202746\n",
      "after 70000 steps \tloss=0.015890525908831877\n",
      "after 75000 steps \tloss=0.013871874302554658\n",
      "after 80000 steps \tloss=0.012266651306180303\n",
      "after 85000 steps \tloss=0.010964919994180011\n",
      "after 90000 steps \tloss=0.009891494914026952\n",
      "after 95000 steps \tloss=0.008993489165635443\n"
     ]
    },
    {
     "data": {
      "text/plain": [
       "0.008232914411577724"
      ]
     },
     "execution_count": 117,
     "metadata": {},
     "output_type": "execute_result"
    }
   ],
   "source": [
    "net = SmallNet(2, 10, dtype=np.float64, random_params=True)\n",
    "net.train(X, Y, 0.01, verbose=True)"
   ]
  },
  {
   "cell_type": "code",
   "execution_count": 118,
   "metadata": {
    "cell_id": "00023-c92941a8-24d1-46e8-a410-d189c1d87b08",
    "colab": {
     "base_uri": "https://localhost:8080/"
    },
    "deepnote_app_coordinates": {
     "h": 5,
     "w": 12,
     "x": 0,
     "y": 138
    },
    "deepnote_cell_type": "code",
    "id": "TwpEjpkU1JvK",
    "outputId": "dc044de9-81c1-4944-d9a2-5dcc72bf9a57"
   },
   "outputs": [
    {
     "name": "stdout",
     "output_type": "stream",
     "text": [
      "XORnet([0. 0.]) = 0.005824781319872465\n",
      "XORnet([0. 1.]) = 0.9920641545320984\n",
      "XORnet([1. 0.]) = 0.9909555392776065\n",
      "XORnet([1. 1.]) = 0.009985978076874272\n"
     ]
    }
   ],
   "source": [
    "predictions, loss = net.forward(X, Y, do_backward=True)\n",
    "for x, p in zip(X, predictions):\n",
    "    print(f\"XORnet({x}) = {p[0]}\")"
   ]
  },
  {
   "cell_type": "code",
   "execution_count": 16,
   "metadata": {
    "cell_id": "00024-e09655a3-84e1-4a43-9b61-00edb56c6054",
    "deepnote_app_coordinates": {
     "h": 5,
     "w": 12,
     "x": 0,
     "y": 144
    },
    "deepnote_cell_type": "code",
    "id": "U0ZMyHqz8xrC"
   },
   "outputs": [
    {
     "name": "stdout",
     "output_type": "stream",
     "text": [
      "Last loss for 2:  0.693\n",
      "Last loss for 3:  0.053\n",
      "Last loss for 5:  0.118\n",
      "Last loss for 10:  0.028\n",
      "Last loss for 20:  0.020\n"
     ]
    }
   ],
   "source": [
    "# TODO:\n",
    "# Generate data for a 3D XOR task\n",
    "# Then estimate the success rate of training the network with diferent\n",
    "# hidden sizes.\n",
    "\n",
    "X3 = np.array([[0, 0, 0], [0, 0, 1], \n",
    "               [0, 1, 0], [0, 1, 1],\n",
    "               [1, 0, 0], [1, 0, 1],\n",
    "               [1, 1, 0], [1, 1, 1]], dtype=np.float64)\n",
    "Y3 = np.array([0, 1, 1, 0, 1, 0, 0, 1], dtype=np.float64).reshape(-1, 1)\n",
    "\n",
    "for hidden_dim in [2, 3, 5, 10, 20]:\n",
    "    net = SmallNet(3, hidden_dim, dtype=np.float64, random_params=True)\n",
    "    loss = net.train(X3, Y3, 0.01, verbose=False)\n",
    "    print(f\"Last loss for {hidden_dim}:  {loss:.3f}\")\n",
    "    "
   ]
  },
  {
   "cell_type": "markdown",
   "metadata": {
    "cell_id": "00025-9703bd09-6aae-4830-8221-09b53a623e4b",
    "deepnote_app_coordinates": {
     "h": 5,
     "w": 12,
     "x": 0,
     "y": 150
    },
    "deepnote_cell_type": "markdown",
    "id": "UuaLEoV-9DLG"
   },
   "source": [
    "## Problem 4\n"
   ]
  },
  {
   "cell_type": "code",
   "execution_count": 20,
   "metadata": {
    "cell_id": "00026-1a2be430-91e0-4209-ab3f-9ef84c39513b",
    "deepnote_app_coordinates": {
     "h": 5,
     "w": 12,
     "x": 0,
     "y": 156
    },
    "deepnote_cell_type": "code",
    "id": "w3lk9_TM-MvK"
   },
   "outputs": [],
   "source": [
    "def relu(x):\n",
    "    return np.maximum(0, x)\n",
    "\n",
    "def relu_grad(x):\n",
    "    return (x > 0)\n",
    "\n",
    "class SmallNetv2:\n",
    "    def __init__(self, in_features, num_hidden, num_layers, dtype=np.float32, random_params=True):\n",
    "        self.num_layers = num_layers\n",
    "        if random_params:\n",
    "            self.init_params(num_hidden, in_features, dtype)\n",
    "\n",
    "    def init_params(self, num_hidden, in_features, dtype=np.float32):\n",
    "        self.W = []\n",
    "        self.b = []\n",
    "        if self.num_layers > 1:\n",
    "            self.W.append(np.array(np.random.normal(0, 0.5, num_hidden * in_features), dtype=dtype).reshape(num_hidden, in_features))\n",
    "            self.b.append(np.array(np.random.normal(0, 0.5, num_hidden), dtype=dtype))\n",
    "            for i in np.arange(self.num_layers-2):\n",
    "                self.W.append(np.array(np.random.normal(0, 0.5, num_hidden ** 2), dtype=dtype).reshape(num_hidden, num_hidden))\n",
    "                self.b.append(np.array(np.random.normal(0, 0.5, num_hidden), dtype=dtype)) \n",
    "\n",
    "            self.W.append(np.array(np.random.normal(0, 0.5, num_hidden), dtype=dtype).reshape(1, num_hidden))\n",
    "            self.b.append(np.array(np.random.normal(0, 0.5, 1), dtype=dtype).reshape(1, ))\n",
    "        else:\n",
    "            self.W.append(np.array(np.random.normal(0, 0.5, num_hidden * in_features), dtype=dtype).reshape(num_hidden, in_features))\n",
    "            self.b.append(np.array(np.random.normal(0, 0.5, num_hidden), dtype=dtype))\n",
    "        \n",
    "\n",
    "    def forward(self, X, Y=None, do_backward=False, activation=sigmoid, activation_grad=sigmoid_grad):\n",
    "        A = []\n",
    "        O = []\n",
    "\n",
    "        A.append(np.dot(X, self.W[0].T) + self.b[0])\n",
    "        O.append(activation(A[0]))\n",
    "        for i in np.arange(self.num_layers - 1):\n",
    "            A.append(np.dot(O[i], self.W[i+1].T) + self.b[i+1])\n",
    "            if i == self.num_layers-2:\n",
    "                O.append(sigmoid(A[i+1]))\n",
    "            else:\n",
    "                O.append(activation(A[i+1]))\n",
    "\n",
    "        # When Y is none, simply return the predictions. Else compute the loss\n",
    "        if Y is not None:\n",
    "            loss = -(Y*np.log(O[-1]) + (1 - Y)*np.log(1-O[-1]))\n",
    "            # normalize loss by batch size\n",
    "            loss = loss.sum() / X.shape[0]\n",
    "        else:\n",
    "            loss = np.nan\n",
    "\n",
    "        if do_backward:\n",
    "            self.W_grad = []\n",
    "            self.b_grad = []\n",
    "            A_grad = []\n",
    "            O_grad = []\n",
    "            \n",
    "            O_grad.append((1-Y)/(1-O[-1])- Y / O[-1])\n",
    "            A_grad.append((1-Y)*O[-1] - Y*(1 - O[-1]))\n",
    "            self.b_grad.append(A_grad[0].sum(0) / A_grad[0].shape[0])\n",
    "            self.W_grad.append(np.dot(A_grad[0].T, O[-2]) / A_grad[0].shape[0])\n",
    "            \n",
    "            for i in np.arange(self.num_layers-2):\n",
    "                O_grad.append(np.dot(A_grad[-1], self.W[-(i+1)]))\n",
    "                A_grad.append(O_grad[-1] * activation_grad(O[-i-1]))\n",
    "                self.b_grad.append(A_grad[-1].sum(0) / A_grad[-1].shape[0])\n",
    "                self.W_grad.append(np.dot(A_grad[-1].T, O[-i-2]) / A_grad[-1].shape[0])\n",
    "\n",
    "            O_grad.append(np.dot(A_grad[-1], self.W[1]))\n",
    "            A_grad.append(O_grad[-1] * activation_grad(O[0]))\n",
    "            self.b_grad.append(A_grad[-1].sum(0) / A_grad[-1].shape[0])\n",
    "            self.W_grad.append(np.dot(A_grad[-1].T, X) / A_grad[-1].shape[0])\n",
    "            self.b_grad.reverse()\n",
    "            self.W_grad.reverse()\n",
    "        return O[-1], loss\n",
    "    \n",
    "    def train(self, X, Y, alpha=0.01, verbose=False, activation=sigmoid, activation_grad=sigmoid_grad):\n",
    "        for i in range(100000):\n",
    "            _, loss = self.forward(X, Y, do_backward=True, activation=activation, activation_grad=activation_grad)\n",
    "            if (i % 5000) == 0 and verbose:\n",
    "                print(f\"after {i} steps \\tloss={loss}\")\n",
    "            for layer in np.arange(self.num_layers):\n",
    "                self.W[layer] = self.W[layer] - alpha * self.W_grad[layer]\n",
    "                self.b[layer] = self.b[layer] - alpha * self.b_grad[layer]\n",
    "        return loss\n"
   ]
  },
  {
   "cell_type": "code",
   "execution_count": 21,
   "metadata": {},
   "outputs": [
    {
     "name": "stdout",
     "output_type": "stream",
     "text": [
      "Last loss for 2:  0.541\n",
      "Last loss for 3:  0.541\n",
      "Last loss for 5:  0.693\n",
      "Last loss for 10:  0.003\n",
      "Last loss for 20:  0.002\n"
     ]
    }
   ],
   "source": [
    "for hidden_dim in [2, 3, 5, 10, 20]:\n",
    "    net = SmallNetv2(3, hidden_dim, 2, random_params=True, dtype=np.float64)\n",
    "    loss = net.train(X3, Y3, alpha=0.01, verbose=False, activation=relu, activation_grad=relu_grad)\n",
    "    print(f\"Last loss for {hidden_dim}:  {loss:.3f}\")"
   ]
  },
  {
   "cell_type": "markdown",
   "metadata": {
    "cell_id": "00027-de8a387d-3b6a-48d5-b6c8-fddf13637e38",
    "deepnote_app_coordinates": {
     "h": 5,
     "w": 12,
     "x": 0,
     "y": 162
    },
    "deepnote_cell_type": "markdown",
    "id": "_Hr_iAKX-ND1"
   },
   "source": [
    "## Problem 5"
   ]
  },
  {
   "cell_type": "code",
   "execution_count": 24,
   "metadata": {},
   "outputs": [
    {
     "name": "stdout",
     "output_type": "stream",
     "text": [
      "after 0 steps \tloss=0.7585930909859477\n",
      "after 5000 steps \tloss=0.6877739986886484\n",
      "after 10000 steps \tloss=0.5184890752655749\n",
      "after 15000 steps \tloss=0.017129733355128254\n",
      "after 20000 steps \tloss=0.008134093178626975\n",
      "after 25000 steps \tloss=0.0054108300157144715\n",
      "after 30000 steps \tloss=0.004076947326836798\n",
      "after 35000 steps \tloss=0.003280380864699832\n",
      "after 40000 steps \tloss=0.002749081008779951\n",
      "after 45000 steps \tloss=0.0023686407371481836\n",
      "after 50000 steps \tloss=0.002082378557103843\n",
      "after 55000 steps \tloss=0.0018589428845548124\n",
      "after 60000 steps \tloss=0.0016795566437320894\n",
      "after 65000 steps \tloss=0.0015322743423403498\n",
      "after 70000 steps \tloss=0.001409127449444025\n",
      "after 75000 steps \tloss=0.0013045928163495388\n",
      "after 80000 steps \tloss=0.0012147193280730754\n",
      "after 85000 steps \tloss=0.0011366044636612878\n",
      "after 90000 steps \tloss=0.0010680672703308892\n",
      "after 95000 steps \tloss=0.0010074367323172435\n",
      "Last loss for 10:  0.001\n"
     ]
    }
   ],
   "source": [
    "hidden_dim = 10\n",
    "net = SmallNetv2(3, hidden_dim, 3, random_params=True, dtype=np.float64)\n",
    "loss = net.train(X3, Y3, alpha=0.1, verbose=True)\n",
    "print(f\"Last loss for {hidden_dim}:  {loss:.3f}\")"
   ]
  },
  {
   "cell_type": "markdown",
   "metadata": {
    "cell_id": "00029-1de44bc6-5f35-4df3-af9a-408291ccc867",
    "deepnote_app_coordinates": {
     "h": 5,
     "w": 12,
     "x": 0,
     "y": 174
    },
    "deepnote_cell_type": "markdown",
    "id": "4PcNxrCt-NcN"
   },
   "source": [
    "## Problem 6"
   ]
  },
  {
   "cell_type": "code",
   "execution_count": 42,
   "metadata": {},
   "outputs": [],
   "source": [
    "from itertools import product\n",
    "import pandas as pd\n",
    "from tqdm import tqdm"
   ]
  },
  {
   "cell_type": "code",
   "execution_count": 43,
   "metadata": {},
   "outputs": [],
   "source": [
    "hidden_dim_vec = [2, 3, 6, 11]\n",
    "hidden_layers_vec = [2, 3, 5, 10]\n",
    "activation = ['sigmoid', 'relu']"
   ]
  },
  {
   "cell_type": "code",
   "execution_count": 44,
   "metadata": {},
   "outputs": [],
   "source": [
    "res6 = pd.DataFrame(list(product([0], hidden_dim_vec, hidden_layers_vec, activation)), columns=['Loss', 'Hidden_dim', 'Hidden_layers', 'Activation'])"
   ]
  },
  {
   "cell_type": "code",
   "execution_count": 45,
   "metadata": {},
   "outputs": [
    {
     "name": "stderr",
     "output_type": "stream",
     "text": [
      "21it [07:38, 20.11s/it]C:\\Users\\dmika\\AppData\\Local\\Temp\\ipykernel_18280\\2860047986.py:45: RuntimeWarning: divide by zero encountered in log\n",
      "  loss = -(Y*np.log(O[-1]) + (1 - Y)*np.log(1-O[-1]))\n",
      "C:\\Users\\dmika\\AppData\\Local\\Temp\\ipykernel_18280\\2860047986.py:45: RuntimeWarning: invalid value encountered in multiply\n",
      "  loss = -(Y*np.log(O[-1]) + (1 - Y)*np.log(1-O[-1]))\n",
      "C:\\Users\\dmika\\AppData\\Local\\Temp\\ipykernel_18280\\2860047986.py:57: RuntimeWarning: divide by zero encountered in divide\n",
      "  O_grad.append((1-Y)/(1-O[-1])- Y / O[-1])\n",
      "C:\\Users\\dmika\\AppData\\Local\\Temp\\ipykernel_18280\\2860047986.py:57: RuntimeWarning: invalid value encountered in divide\n",
      "  O_grad.append((1-Y)/(1-O[-1])- Y / O[-1])\n",
      "29it [10:48, 20.98s/it]C:\\Users\\dmika\\AppData\\Local\\Temp\\ipykernel_18280\\3661443212.py:2: RuntimeWarning: overflow encountered in exp\n",
      "  return 1 / (1 + np.exp(-x))\n",
      "C:\\Users\\dmika\\AppData\\Local\\Temp\\ipykernel_18280\\2860047986.py:64: RuntimeWarning: invalid value encountered in multiply\n",
      "  A_grad.append(O_grad[-1] * activation_grad(O[-i-1]))\n",
      "32it [12:45, 23.93s/it]\n"
     ]
    }
   ],
   "source": [
    "for ix, row in tqdm(res6.iterrows()):\n",
    "    _, hidden_dim, hidden_layers, activation = row\n",
    "    net = SmallNetv2(3, hidden_dim, hidden_layers, random_params=True, dtype=np.float64)\n",
    "    if activation == 'sigmoid':\n",
    "        loss = net.train(X3, Y3, alpha=0.1, verbose=False)\n",
    "    else:\n",
    "        loss = net.train(X3, Y3, alpha=0.01, verbose=False, activation=relu, activation_grad=relu_grad)\n",
    "    res6.iloc[ix, 0] = loss"
   ]
  },
  {
   "cell_type": "code",
   "execution_count": 47,
   "metadata": {},
   "outputs": [],
   "source": [
    "res6.to_csv('A1r6.csv', index=False)"
   ]
  },
  {
   "cell_type": "markdown",
   "metadata": {
    "cell_id": "00031-032edb86-1c56-46e7-8ea3-3e011d72bf5f",
    "deepnote_app_coordinates": {
     "h": 5,
     "w": 12,
     "x": 0,
     "y": 186
    },
    "deepnote_cell_type": "markdown",
    "id": "nWuv7Q77-Nut"
   },
   "source": [
    "## Problem 7"
   ]
  },
  {
   "cell_type": "code",
   "execution_count": null,
   "metadata": {
    "cell_id": "00032-2eab2b1a-f83b-409c-a066-1642cd2ab2d8",
    "deepnote_app_coordinates": {
     "h": 5,
     "w": 12,
     "x": 0,
     "y": 192
    },
    "deepnote_cell_type": "code",
    "id": "avuvSoWY-N4Z"
   },
   "outputs": [],
   "source": []
  },
  {
   "attachments": {},
   "cell_type": "markdown",
   "metadata": {},
   "source": [
    "## Problem 8"
   ]
  },
  {
   "attachments": {},
   "cell_type": "markdown",
   "metadata": {},
   "source": [
    "We know that softmax function takes $k$ inputs and returns $k$ outputs. So this derivative will be $k\\times k$ matrix.\n",
    "To get the whole result we will first calculate coordinate derivatives.\n",
    "Lets denote \n",
    "$\\mathrm{softmax}(\\boldsymbol z) = [s_1, s_2, \\ldots,  s_k]^T$\n",
    "and \n",
    "$\\boldsymbol z = [z_1, z_2, \\ldots,  z_k]^T$\n",
    "\n",
    "First we will calculate derivatives on the diagonal.\n",
    "\n",
    "$$\\frac{\\partial s_j}{\\partial z_j} = \\frac{\\exp{(z_j)}\\sum_{i=1}^k\\exp{(z_j)}-(\\exp{(z_j)})^2}{(\\sum_{i=1}^k\\exp{(z_i)})^2} = \\frac{\\exp{(z_j)}}{\\sum_{i=1}^k\\exp{(z_i)}} - \\left(\\frac{\\exp{(z_j)}}{\\sum_{i=1}^k\\exp{(z_i)}}\\right)^2=s_j-s_j^2$$\n",
    "\n",
    "Then we calculate it for $i\\neq j$.\n",
    "\n",
    "$$\\frac{\\partial s_i}{\\partial z_j} = -\\frac{\\exp{(z_i)}\\exp{(z_j)}}{(\\sum_{i=1}^k\\exp{(z_i)})^2} = -s_i\\cdot s_j$$\n",
    "\n",
    "Combining those results we actually get the following:\n",
    "\n",
    "$$\\frac{\\partial \\hat{\\boldsymbol y}}{\\boldsymbol z}=\\mathrm{diag}( \\hat{\\boldsymbol y}) - \\hat{\\boldsymbol y} \\hat{\\boldsymbol y}^T.$$\n",
    "\n",
    "To get the next two derivatives we need to use the chain rule.\n",
    "\n",
    "$$\\frac{\\partial \\hat{\\boldsymbol y}}{W_{ij}}=\\frac{\\partial \\hat{\\boldsymbol y}}{\\boldsymbol z}\\cdot\\frac{\\partial \\boldsymbol z}{W_{ij}}$$\n",
    "\n",
    "So we just need to calculate $\\frac{\\partial \\boldsymbol z}{W_{ij}}$. The result should be a vector with $k$ elements.\n",
    "\n",
    "$$\\frac{\\partial \\boldsymbol z}{W_{ij}} = [0,\\ldots,0,x_j,0,\\ldots,0]$$\n",
    "\n",
    "Where $x_j$ is in the $i$-th place of this vector.\n",
    "\n",
    "\n",
    "$$\\frac{\\partial \\hat{\\boldsymbol y}}{\\boldsymbol b}=\\frac{\\partial \\hat{\\boldsymbol y}}{\\boldsymbol z}\\cdot\\frac{\\partial \\boldsymbol z}{\\boldsymbol b}$$\n",
    "\n",
    "$$\\frac{\\partial \\boldsymbol z}{\\boldsymbol b} = \\mathbf{I}_{k\\times k}$$"
   ]
  }
 ],
 "metadata": {
  "colab": {
   "collapsed_sections": [],
   "include_colab_link": true,
   "name": "Assignment1.ipynb",
   "provenance": []
  },
  "deepnote": {},
  "deepnote_app_layout": "article",
  "deepnote_execution_queue": [],
  "deepnote_notebook_id": "1f038069-bae5-44e5-92ba-67bdff2c54a6",
  "kernelspec": {
   "display_name": "UniversityEnv",
   "language": "python",
   "name": "python3"
  },
  "language_info": {
   "codemirror_mode": {
    "name": "ipython",
    "version": 3
   },
   "file_extension": ".py",
   "mimetype": "text/x-python",
   "name": "python",
   "nbconvert_exporter": "python",
   "pygments_lexer": "ipython3",
   "version": "3.10.6"
  },
  "vscode": {
   "interpreter": {
    "hash": "15f8f2d3d77985f79729f955a1d3618c4763baf8483cab5a52cfb8bdd5f22be1"
   }
  }
 },
 "nbformat": 4,
 "nbformat_minor": 1
}
