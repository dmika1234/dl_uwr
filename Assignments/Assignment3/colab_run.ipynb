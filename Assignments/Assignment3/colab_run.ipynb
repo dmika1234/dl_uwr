{
  "cells": [
    {
      "cell_type": "markdown",
      "metadata": {
        "id": "n46sfNs9chga"
      },
      "source": [
        "<a href=\"https://colab.research.google.com/github/dmika1234/dl_uwr/blob/develop/Assignments/Assignment3/colab_run.ipynb\" target=\"_parent\"><img src=\"https://colab.research.google.com/assets/colab-badge.svg\" alt=\"Open In Colab\"/></a>"
      ]
    },
    {
      "cell_type": "markdown",
      "source": [
        "# Imports, settings"
      ],
      "metadata": {
        "id": "rv0L0DXvdAeK"
      }
    },
    {
      "cell_type": "code",
      "source": [
        "%pylab inline\n",
        "# Please note that this code needs only to be run in a fresh runtime.\n",
        "# However, it can be rerun afterwards too.\n",
        "!pip install -q gdown httpimport"
      ],
      "metadata": {
        "id": "J1TdKsuwcjWz",
        "outputId": "6ea91f81-c0f4-4704-df45-0543acae6832",
        "colab": {
          "base_uri": "https://localhost:8080/"
        }
      },
      "execution_count": 13,
      "outputs": [
        {
          "output_type": "stream",
          "name": "stdout",
          "text": [
            "Populating the interactive namespace from numpy and matplotlib\n"
          ]
        }
      ]
    },
    {
      "cell_type": "code",
      "execution_count": 16,
      "metadata": {
        "id": "lCPaT0yVchgg"
      },
      "outputs": [],
      "source": [
        "# Torch has to go first due to an importing bug\n",
        "import collections\n",
        "import logging\n",
        "import os\n",
        "import re\n",
        "\n",
        "import httpimport\n",
        "import numpy as np\n",
        "import PIL\n",
        "import scipy.io\n",
        "import scipy.ndimage\n",
        "import matplotlib.pyplot as plt\n",
        "\n",
        "import torch\n",
        "import torch.nn.functional as F\n",
        "import torchvision\n",
        "from torch import nn\n",
        "from torch.autograd import Variable\n",
        "\n",
        "logging.getLogger(\"PIL\").setLevel(logging.INFO)\n",
        "\n",
        "\n",
        "with httpimport.github_repo(\n",
        "    \"janchorowski\", \"nn_assignments\", \"nn18\"\n",
        "):\n",
        "    import common.plotting"
      ]
    },
    {
      "cell_type": "code",
      "execution_count": 18,
      "metadata": {
        "id": "AsyTS79kchgh"
      },
      "outputs": [],
      "source": [
        "# Colab\n",
        "# %load_ext autoreload\n",
        "# %autoreload\n",
        "with httpimport.github_repo(\n",
        "     \"dmika1234\", \"dl_uwr\", \"develop\"\n",
        "):\n",
        "     from Assignments.Assignment3.funs import *"
      ]
    },
    {
      "cell_type": "code",
      "execution_count": null,
      "metadata": {
        "id": "LbGIB32Dchgi",
        "outputId": "cbf81afa-04d4-439d-b5e2-f47cf844edfc"
      },
      "outputs": [
        {
          "data": {
            "text/plain": [
              "device(type='cuda')"
            ]
          },
          "metadata": {},
          "output_type": "display_data"
        }
      ],
      "source": [
        "# On GPU enabled devices set device='cuda' else set device='cpu'\n",
        "device = torch.device('cuda' if torch.cuda.is_available() else 'cpu')\n",
        "device"
      ]
    },
    {
      "cell_type": "markdown",
      "source": [
        "# Problem 1"
      ],
      "metadata": {
        "id": "L2YOHO03dHXz"
      }
    },
    {
      "cell_type": "markdown",
      "source": [
        "## 1."
      ],
      "metadata": {
        "id": "zdbJgZGhdTu_"
      }
    },
    {
      "cell_type": "code",
      "source": [],
      "metadata": {
        "id": "KchpAKmNdSXr"
      },
      "execution_count": null,
      "outputs": []
    },
    {
      "cell_type": "code",
      "source": [],
      "metadata": {
        "id": "EC2awAwEdIvg"
      },
      "execution_count": null,
      "outputs": []
    }
  ],
  "metadata": {
    "kernelspec": {
      "display_name": "UniEnv",
      "language": "python",
      "name": "python3"
    },
    "language_info": {
      "codemirror_mode": {
        "name": "ipython",
        "version": 3
      },
      "file_extension": ".py",
      "mimetype": "text/x-python",
      "name": "python",
      "nbconvert_exporter": "python",
      "pygments_lexer": "ipython3",
      "version": "3.10.6"
    },
    "orig_nbformat": 4,
    "colab": {
      "provenance": []
    }
  },
  "nbformat": 4,
  "nbformat_minor": 0
}