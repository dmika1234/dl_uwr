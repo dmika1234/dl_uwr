{
 "cells": [
  {
   "attachments": {},
   "cell_type": "markdown",
   "metadata": {},
   "source": [
    "<a href=\"https://colab.research.google.com/github/dmika1234/dl_uwr/blob/develop/Assignments/Assignment3/colab_run.ipynb\" target=\"_parent\"><img src=\"https://colab.research.google.com/assets/colab-badge.svg\" alt=\"Open In Colab\"/></a>"
   ]
  },
  {
   "cell_type": "markdown",
   "metadata": {},
   "source": [
    "%pylab inline\n",
    "# Please note that this code needs only to be run in a fresh runtime.\n",
    "# However, it can be rerun afterwards too.\n",
    "!pip install -q gdown httpimport"
   ]
  },
  {
   "cell_type": "code",
   "execution_count": 2,
   "metadata": {},
   "outputs": [],
   "source": [
    "# Torch has to go first due to an importing bug\n",
    "import collections\n",
    "import logging\n",
    "import os\n",
    "import re\n",
    "\n",
    "import httpimport\n",
    "import numpy as np\n",
    "import PIL\n",
    "import scipy.io\n",
    "import scipy.ndimage\n",
    "import matplotlib.pyplot as plt\n",
    "\n",
    "import torch\n",
    "import torch.nn.functional as F\n",
    "import torchvision\n",
    "from torch import nn\n",
    "from torch.autograd import Variable\n",
    "\n",
    "logging.getLogger(\"PIL\").setLevel(logging.INFO)\n",
    "\n",
    "\n",
    "with httpimport.github_repo(\n",
    "    \"janchorowski\", \"nn_assignments\", module=\"common\", branch=\"nn18\"\n",
    "):\n",
    "    import common.plotting"
   ]
  },
  {
   "cell_type": "code",
   "execution_count": 8,
   "metadata": {},
   "outputs": [
    {
     "name": "stderr",
     "output_type": "stream",
     "text": [
      "[!] 'Assignments.Assignment3' not found in HTTP repository. Moving to next Finder.\n"
     ]
    },
    {
     "ename": "KeyError",
     "evalue": "'Assignments.Assignment3'",
     "output_type": "error",
     "traceback": [
      "\u001b[1;31m---------------------------------------------------------------------------\u001b[0m",
      "\u001b[1;31mKeyError\u001b[0m                                  Traceback (most recent call last)",
      "Cell \u001b[1;32mIn[8], line 7\u001b[0m\n\u001b[0;32m      1\u001b[0m \u001b[39m# Colab\u001b[39;00m\n\u001b[0;32m      2\u001b[0m \u001b[39m# %load_ext autoreload\u001b[39;00m\n\u001b[0;32m      3\u001b[0m \u001b[39m# %autoreload\u001b[39;00m\n\u001b[0;32m      4\u001b[0m \u001b[39mwith\u001b[39;00m httpimport\u001b[39m.\u001b[39mgithub_repo(\n\u001b[0;32m      5\u001b[0m      \u001b[39m\"\u001b[39m\u001b[39mdmika1234\u001b[39m\u001b[39m\"\u001b[39m, \u001b[39m\"\u001b[39m\u001b[39mdl_uwr\u001b[39m\u001b[39m\"\u001b[39m, module\u001b[39m=\u001b[39m\u001b[39m\"\u001b[39m\u001b[39mAssignments\u001b[39m\u001b[39m\"\u001b[39m, branch\u001b[39m=\u001b[39m\u001b[39m\"\u001b[39m\u001b[39mdevelop\u001b[39m\u001b[39m\"\u001b[39m\n\u001b[0;32m      6\u001b[0m ):\n\u001b[1;32m----> 7\u001b[0m      \u001b[39mimport\u001b[39;00m \u001b[39mAssignments\u001b[39;00m\u001b[39m.\u001b[39;00m\u001b[39mAssignment3\u001b[39;00m\u001b[39m.\u001b[39;00m\u001b[39mfuns\u001b[39;00m\n",
      "File \u001b[1;32m<frozen importlib._bootstrap>:1027\u001b[0m, in \u001b[0;36m_find_and_load\u001b[1;34m(name, import_)\u001b[0m\n",
      "File \u001b[1;32m<frozen importlib._bootstrap>:1006\u001b[0m, in \u001b[0;36m_find_and_load_unlocked\u001b[1;34m(name, import_)\u001b[0m\n",
      "File \u001b[1;32m<frozen importlib._bootstrap>:672\u001b[0m, in \u001b[0;36m_load_unlocked\u001b[1;34m(spec)\u001b[0m\n",
      "File \u001b[1;32m<frozen importlib._bootstrap>:640\u001b[0m, in \u001b[0;36m_load_backward_compatible\u001b[1;34m(spec)\u001b[0m\n",
      "\u001b[1;31mKeyError\u001b[0m: 'Assignments.Assignment3'"
     ]
    }
   ],
   "source": [
    "# Colab\n",
    "# %load_ext autoreload\n",
    "# %autoreload\n",
    "with httpimport.github_repo(\n",
    "     \"dmika1234\", \"dl_uwr\", module=\"Assignments\", branch=\"develop\"\n",
    "):\n",
    "     import Assignments.Assignment3.funs"
   ]
  },
  {
   "cell_type": "code",
   "execution_count": null,
   "metadata": {},
   "outputs": [
    {
     "data": {
      "text/plain": [
       "device(type='cuda')"
      ]
     },
     "metadata": {},
     "output_type": "display_data"
    }
   ],
   "source": [
    "# On GPU enabled devices set device='cuda' else set device='cpu'\n",
    "device = torch.device('cuda' if torch.cuda.is_available() else 'cpu')\n",
    "device"
   ]
  },
  {
   "cell_type": "code",
   "execution_count": null,
   "metadata": {},
   "outputs": [],
   "source": []
  },
  {
   "cell_type": "code",
   "execution_count": null,
   "metadata": {},
   "outputs": [],
   "source": []
  }
 ],
 "metadata": {
  "kernelspec": {
   "display_name": "UniEnv",
   "language": "python",
   "name": "python3"
  },
  "language_info": {
   "codemirror_mode": {
    "name": "ipython",
    "version": 3
   },
   "file_extension": ".py",
   "mimetype": "text/x-python",
   "name": "python",
   "nbconvert_exporter": "python",
   "pygments_lexer": "ipython3",
   "version": "3.10.6"
  },
  "orig_nbformat": 4
 },
 "nbformat": 4,
 "nbformat_minor": 2
}
